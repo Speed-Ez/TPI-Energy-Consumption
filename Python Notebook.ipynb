{
 "cells": [
  {
   "cell_type": "code",
   "execution_count": 1,
   "id": "b888b9b3-e4e7-457f-8e04-7395e2e38b53",
   "metadata": {},
   "outputs": [],
   "source": [
    "import numpy as np\n",
    "import pandas as pd"
   ]
  },
  {
   "cell_type": "code",
   "execution_count": 2,
   "id": "cd530003-3dba-486a-b572-0b5ec6057c6b",
   "metadata": {},
   "outputs": [],
   "source": [
    "df1=pd.read_csv(r\"C:\\Users\\GODSPEED\\Downloads\\DATASET\\AEP_hourly.csv\")\n",
    "df2=pd.read_csv(r\"C:\\Users\\GODSPEED\\Downloads\\DATASET\\COMED_hourly.csv\")\n",
    "df3=pd.read_csv(r\"C:\\Users\\GODSPEED\\Downloads\\DATASET\\DAYTON_hourly.csv\")\n",
    "df4=pd.read_csv(r\"C:\\Users\\GODSPEED\\Downloads\\DATASET\\DEOK_hourly.csv\")\n",
    "df5=pd.read_csv(r\"C:\\Users\\GODSPEED\\Downloads\\DATASET\\DOM_hourly.csv\")\n",
    "df6=pd.read_csv(r\"C:\\Users\\GODSPEED\\Downloads\\DATASET\\DUQ_hourly.csv\")\n",
    "df7=pd.read_csv(r\"C:\\Users\\GODSPEED\\Downloads\\DATASET\\EKPC_hourly.csv\")\n",
    "df8=pd.read_csv(r\"C:\\Users\\GODSPEED\\Downloads\\DATASET\\FE_hourly.csv\")\n",
    "df9=pd.read_csv(r\"C:\\Users\\GODSPEED\\Downloads\\DATASET\\NI_hourly.csv\")\n",
    "df10=pd.read_csv(r\"C:\\Users\\GODSPEED\\Downloads\\DATASET\\PJM_Load_hourly.csv\")\n",
    "df11=pd.read_csv(r\"C:\\Users\\GODSPEED\\Downloads\\DATASET\\PJME_hourly.csv\")\n",
    "df12=pd.read_csv(r\"C:\\Users\\GODSPEED\\Downloads\\DATASET\\PJMW_hourly.csv\")"
   ]
  },
  {
   "cell_type": "code",
   "execution_count": null,
   "id": "554a7cb1-7a6f-457e-9d18-ab9afd05fd49",
   "metadata": {},
   "outputs": [],
   "source": []
  },
  {
   "cell_type": "code",
   "execution_count": 3,
   "id": "4b2f8e61-47c3-4093-89ed-84df8df8addb",
   "metadata": {},
   "outputs": [
    {
     "name": "stdout",
     "output_type": "stream",
     "text": [
      "<class 'pandas.core.frame.DataFrame'>\n",
      "RangeIndex: 121273 entries, 0 to 121272\n",
      "Data columns (total 2 columns):\n",
      " #   Column    Non-Null Count   Dtype \n",
      "---  ------    --------------   ----- \n",
      " 0   Datetime  121273 non-null  object\n",
      " 1   AEP_MW    121273 non-null  int64 \n",
      "dtypes: int64(1), object(1)\n",
      "memory usage: 1.9+ MB\n"
     ]
    }
   ],
   "source": [
    "df1.info()"
   ]
  },
  {
   "cell_type": "code",
   "execution_count": 4,
   "id": "bf7e3df3-65c7-4158-969c-584999cda6ef",
   "metadata": {},
   "outputs": [
    {
     "name": "stderr",
     "output_type": "stream",
     "text": [
      "C:\\Users\\GODSPEED\\AppData\\Local\\Temp\\ipykernel_21364\\2752043923.py:4: UserWarning: Could not infer format, so each element will be parsed individually, falling back to `dateutil`. To ensure parsing is consistent and as-expected, please specify a format.\n",
      "  df1['Datetime'] = pd.to_datetime(df1['Datetime'])\n"
     ]
    }
   ],
   "source": [
    "# Converting Datetime column to datetime format\n",
    "# converting the data type of the watt column from int64 to int32 for optimization\n",
    "\n",
    "df1['Datetime'] = pd.to_datetime(df1['Datetime'])\n",
    "df1['AEP_MW'] = df1['AEP_MW'].astype(\"float32\")"
   ]
  },
  {
   "cell_type": "code",
   "execution_count": 5,
   "id": "7b2952b4-7335-48ce-97a6-5df50748a09f",
   "metadata": {},
   "outputs": [
    {
     "name": "stdout",
     "output_type": "stream",
     "text": [
      "<class 'pandas.core.frame.DataFrame'>\n",
      "RangeIndex: 121273 entries, 0 to 121272\n",
      "Data columns (total 2 columns):\n",
      " #   Column    Non-Null Count   Dtype         \n",
      "---  ------    --------------   -----         \n",
      " 0   Datetime  121273 non-null  datetime64[ns]\n",
      " 1   AEP_MW    121273 non-null  float32       \n",
      "dtypes: datetime64[ns](1), float32(1)\n",
      "memory usage: 1.4 MB\n"
     ]
    }
   ],
   "source": [
    "df1.info()"
   ]
  },
  {
   "cell_type": "code",
   "execution_count": 6,
   "id": "1afb9f57-cc9e-41a8-804f-daeadca8f1fc",
   "metadata": {},
   "outputs": [],
   "source": [
    "df1.to_csv('AEP_hourly.csv', index=False)"
   ]
  },
  {
   "cell_type": "code",
   "execution_count": null,
   "id": "61c28a95-2d49-4b0a-8e23-2b43ed0e09b2",
   "metadata": {},
   "outputs": [],
   "source": []
  },
  {
   "cell_type": "code",
   "execution_count": 7,
   "id": "09914c3c-ac4c-4939-af08-307ec43240bd",
   "metadata": {},
   "outputs": [
    {
     "name": "stderr",
     "output_type": "stream",
     "text": [
      "C:\\Users\\GODSPEED\\AppData\\Local\\Temp\\ipykernel_21364\\1590085651.py:1: UserWarning: Could not infer format, so each element will be parsed individually, falling back to `dateutil`. To ensure parsing is consistent and as-expected, please specify a format.\n",
      "  df2['Datetime'] = pd.to_datetime(df2['Datetime'])\n"
     ]
    }
   ],
   "source": [
    "df2['Datetime'] = pd.to_datetime(df2['Datetime'])\n",
    "df2['COMED_MW'] = df2['COMED_MW'].astype(\"float32\")\n",
    "df2.to_csv('COMED_hourly.csv', index=False)"
   ]
  },
  {
   "cell_type": "code",
   "execution_count": 8,
   "id": "faf42bbb-e269-4870-9a42-6b5523ee0887",
   "metadata": {},
   "outputs": [
    {
     "name": "stderr",
     "output_type": "stream",
     "text": [
      "C:\\Users\\GODSPEED\\AppData\\Local\\Temp\\ipykernel_21364\\3489443559.py:1: UserWarning: Could not infer format, so each element will be parsed individually, falling back to `dateutil`. To ensure parsing is consistent and as-expected, please specify a format.\n",
      "  df3['Datetime'] = pd.to_datetime(df3['Datetime'])\n"
     ]
    }
   ],
   "source": [
    "df3['Datetime'] = pd.to_datetime(df3['Datetime'])\n",
    "df3['DAYTON_MW'] = df3['DAYTON_MW'].astype(\"float32\")\n",
    "df3.to_csv('DAYTON_hourly.csv', index=False)"
   ]
  },
  {
   "cell_type": "code",
   "execution_count": 9,
   "id": "cab4b462-23e8-45cb-9a53-a61580559b52",
   "metadata": {},
   "outputs": [
    {
     "name": "stderr",
     "output_type": "stream",
     "text": [
      "C:\\Users\\GODSPEED\\AppData\\Local\\Temp\\ipykernel_21364\\3124343570.py:1: UserWarning: Could not infer format, so each element will be parsed individually, falling back to `dateutil`. To ensure parsing is consistent and as-expected, please specify a format.\n",
      "  df4['Datetime'] = pd.to_datetime(df4['Datetime'])\n"
     ]
    }
   ],
   "source": [
    "df4['Datetime'] = pd.to_datetime(df4['Datetime'])\n",
    "df4['DEOK_MW'] = df4['DEOK_MW'].astype(\"float32\")\n",
    "df4.to_csv('DEOK_hourly.csv', index=False)"
   ]
  },
  {
   "cell_type": "code",
   "execution_count": 10,
   "id": "89a2d918-3911-4f2b-a0d7-658da9448dc2",
   "metadata": {},
   "outputs": [
    {
     "name": "stderr",
     "output_type": "stream",
     "text": [
      "C:\\Users\\GODSPEED\\AppData\\Local\\Temp\\ipykernel_21364\\320576898.py:1: UserWarning: Could not infer format, so each element will be parsed individually, falling back to `dateutil`. To ensure parsing is consistent and as-expected, please specify a format.\n",
      "  df5['Datetime'] = pd.to_datetime(df5['Datetime'])\n"
     ]
    }
   ],
   "source": [
    "df5['Datetime'] = pd.to_datetime(df5['Datetime'])\n",
    "df5['DOM_MW'] = df5['DOM_MW'].astype(\"float32\")\n",
    "df5.to_csv('DOM_hourly.csv', index=False)"
   ]
  },
  {
   "cell_type": "code",
   "execution_count": 11,
   "id": "021f3dd5-e800-47d5-aede-b41189d9a707",
   "metadata": {},
   "outputs": [
    {
     "name": "stderr",
     "output_type": "stream",
     "text": [
      "C:\\Users\\GODSPEED\\AppData\\Local\\Temp\\ipykernel_21364\\685360508.py:1: UserWarning: Could not infer format, so each element will be parsed individually, falling back to `dateutil`. To ensure parsing is consistent and as-expected, please specify a format.\n",
      "  df6['Datetime'] = pd.to_datetime(df6['Datetime'])\n"
     ]
    }
   ],
   "source": [
    "df6['Datetime'] = pd.to_datetime(df6['Datetime'])\n",
    "df6['DUQ_MW'] = df6['DUQ_MW'].astype(\"float32\")\n",
    "df6.to_csv('DUQ_hourly.csv', index=False)"
   ]
  },
  {
   "cell_type": "code",
   "execution_count": 12,
   "id": "f50feea8-90dc-44d4-bc85-bf87b7b07632",
   "metadata": {},
   "outputs": [
    {
     "name": "stderr",
     "output_type": "stream",
     "text": [
      "C:\\Users\\GODSPEED\\AppData\\Local\\Temp\\ipykernel_21364\\3866115594.py:1: UserWarning: Could not infer format, so each element will be parsed individually, falling back to `dateutil`. To ensure parsing is consistent and as-expected, please specify a format.\n",
      "  df7['Datetime'] = pd.to_datetime(df7['Datetime'])\n"
     ]
    }
   ],
   "source": [
    "df7['Datetime'] = pd.to_datetime(df7['Datetime'])\n",
    "df7['EKPC_MW'] = df7['EKPC_MW'].astype(\"float32\")\n",
    "df7.to_csv('EKPC_hourly.csv', index=False)"
   ]
  },
  {
   "cell_type": "code",
   "execution_count": 13,
   "id": "24c669e2-a97c-4f27-ad39-92e7ad6863fa",
   "metadata": {},
   "outputs": [
    {
     "name": "stderr",
     "output_type": "stream",
     "text": [
      "C:\\Users\\GODSPEED\\AppData\\Local\\Temp\\ipykernel_21364\\3560576314.py:1: UserWarning: Could not infer format, so each element will be parsed individually, falling back to `dateutil`. To ensure parsing is consistent and as-expected, please specify a format.\n",
      "  df8['Datetime'] = pd.to_datetime(df8['Datetime'])\n"
     ]
    }
   ],
   "source": [
    "df8['Datetime'] = pd.to_datetime(df8['Datetime'])\n",
    "df8['FE_MW'] = df8['FE_MW'].astype(\"float32\")\n",
    "df8.to_csv('FE_hourly.csv', index=False)"
   ]
  },
  {
   "cell_type": "code",
   "execution_count": 14,
   "id": "32fe3aec-03af-4b0a-be53-da2719185be7",
   "metadata": {},
   "outputs": [
    {
     "name": "stderr",
     "output_type": "stream",
     "text": [
      "C:\\Users\\GODSPEED\\AppData\\Local\\Temp\\ipykernel_21364\\749496.py:1: UserWarning: Could not infer format, so each element will be parsed individually, falling back to `dateutil`. To ensure parsing is consistent and as-expected, please specify a format.\n",
      "  df9['Datetime'] = pd.to_datetime(df9['Datetime'])\n"
     ]
    }
   ],
   "source": [
    "df9['Datetime'] = pd.to_datetime(df9['Datetime'])\n",
    "df9['NI_MW'] = df9['NI_MW'].astype(\"float32\")\n",
    "df9.to_csv('NI_hourly.csv', index=False)"
   ]
  },
  {
   "cell_type": "code",
   "execution_count": 15,
   "id": "f9250fd7-a370-4f3f-b01f-ce5d510dc9cb",
   "metadata": {},
   "outputs": [
    {
     "name": "stderr",
     "output_type": "stream",
     "text": [
      "C:\\Users\\GODSPEED\\AppData\\Local\\Temp\\ipykernel_21364\\3416021643.py:1: UserWarning: Could not infer format, so each element will be parsed individually, falling back to `dateutil`. To ensure parsing is consistent and as-expected, please specify a format.\n",
      "  df10['Datetime'] = pd.to_datetime(df10['Datetime'])\n"
     ]
    }
   ],
   "source": [
    "df10['Datetime'] = pd.to_datetime(df10['Datetime'])\n",
    "df10['PJM_Load_MW'] = df10['PJM_Load_MW'].astype(\"float32\")\n",
    "df10.to_csv('PJM_Load_hourly.csv', index=False)"
   ]
  },
  {
   "cell_type": "code",
   "execution_count": 16,
   "id": "a8ed73f7-c471-40a1-b030-a1dc4e05d9d7",
   "metadata": {},
   "outputs": [
    {
     "name": "stderr",
     "output_type": "stream",
     "text": [
      "C:\\Users\\GODSPEED\\AppData\\Local\\Temp\\ipykernel_21364\\714312264.py:1: UserWarning: Could not infer format, so each element will be parsed individually, falling back to `dateutil`. To ensure parsing is consistent and as-expected, please specify a format.\n",
      "  df11['Datetime'] = pd.to_datetime(df11['Datetime'])\n"
     ]
    }
   ],
   "source": [
    "df11['Datetime'] = pd.to_datetime(df11['Datetime'])\n",
    "df11['PJME_MW'] = df11['PJME_MW'].astype(\"float32\")\n",
    "df11.to_csv('PJME_hourly.csv', index=False)"
   ]
  },
  {
   "cell_type": "code",
   "execution_count": 17,
   "id": "47cf6112-b319-4776-a0a8-b7ab3310675c",
   "metadata": {},
   "outputs": [
    {
     "name": "stderr",
     "output_type": "stream",
     "text": [
      "C:\\Users\\GODSPEED\\AppData\\Local\\Temp\\ipykernel_21364\\2891260991.py:1: UserWarning: Could not infer format, so each element will be parsed individually, falling back to `dateutil`. To ensure parsing is consistent and as-expected, please specify a format.\n",
      "  df12['Datetime'] = pd.to_datetime(df12['Datetime'])\n"
     ]
    }
   ],
   "source": [
    "df12['Datetime'] = pd.to_datetime(df12['Datetime'])\n",
    "df12['PJMW_MW'] = df12['PJMW_MW'].astype(\"float32\")\n",
    "df12.to_csv('PJMW_hourly.csv', index=False)"
   ]
  },
  {
   "cell_type": "code",
   "execution_count": null,
   "id": "a465dd21-f4f4-4348-a854-9f5b5748c11f",
   "metadata": {},
   "outputs": [],
   "source": []
  },
  {
   "cell_type": "code",
   "execution_count": null,
   "id": "04b827c2-786c-4bfd-81f3-4c0ed890042d",
   "metadata": {},
   "outputs": [],
   "source": []
  }
 ],
 "metadata": {
  "kernelspec": {
   "display_name": "Python 3 (ipykernel)",
   "language": "python",
   "name": "python3"
  },
  "language_info": {
   "codemirror_mode": {
    "name": "ipython",
    "version": 3
   },
   "file_extension": ".py",
   "mimetype": "text/x-python",
   "name": "python",
   "nbconvert_exporter": "python",
   "pygments_lexer": "ipython3",
   "version": "3.12.0"
  }
 },
 "nbformat": 4,
 "nbformat_minor": 5
}
